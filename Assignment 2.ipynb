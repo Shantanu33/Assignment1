{
 "cells": [
  {
   "cell_type": "code",
   "execution_count": 2,
   "id": "f7ebf760-51c6-42cc-8f0b-704fd4a64a41",
   "metadata": {},
   "outputs": [
    {
     "name": "stdin",
     "output_type": "stream",
     "text": [
      "Enter Percentage 22\n"
     ]
    },
    {
     "name": "stdout",
     "output_type": "stream",
     "text": [
      "D\n"
     ]
    }
   ],
   "source": [
    "marks = int(input(\"Enter Percentage\"))\n",
    "if marks > 90:\n",
    "    print(\"A\")\n",
    "elif marks > 80 and marks <= 90:\n",
    "    print('B')\n",
    "elif marks > 60 and marks <=80:\n",
    "    print('c')\n",
    "else:\n",
    "    print('D')\n",
    "            "
   ]
  },
  {
   "cell_type": "code",
   "execution_count": 3,
   "id": "15144100-344b-4017-80f3-254f61019cea",
   "metadata": {},
   "outputs": [
    {
     "name": "stdin",
     "output_type": "stream",
     "text": [
      "Enter Price Of Bike 50000\n"
     ]
    },
    {
     "name": "stdout",
     "output_type": "stream",
     "text": [
      "Road Tax =5%\n"
     ]
    }
   ],
   "source": [
    "price_of_bike = int(input(\"Enter Price Of Bike\"))\n",
    "if price_of_bike > 100000:\n",
    "    print(\"Road Tax = 15%\")\n",
    "elif price_of_bike > 50000 and price_of_bike <= 100000:\n",
    "    print(\"Road Tax =10%\")\n",
    "else:\n",
    "    print(\"Road Tax =5%\")\n",
    "            "
   ]
  },
  {
   "cell_type": "code",
   "execution_count": 4,
   "id": "04ec52fc-baa2-49b6-86e0-217e35519400",
   "metadata": {},
   "outputs": [
    {
     "name": "stdin",
     "output_type": "stream",
     "text": [
      "Enter City Name Delhi\n"
     ]
    },
    {
     "name": "stdout",
     "output_type": "stream",
     "text": [
      "Red Fort\n"
     ]
    }
   ],
   "source": [
    "city = input(\"Enter City Name\")\n",
    "if city == 'Delhi':\n",
    "    print(\"Red Fort\")\n",
    "elif city == \"Agra\":\n",
    "        print(\"Taj Mahal\")\n",
    "elif city == \"Jaipur\":\n",
    "            print(\"Jal Mahal\")"
   ]
  },
  {
   "cell_type": "code",
   "execution_count": null,
   "id": "86ff721b-d9bc-4bb1-8749-ac41e468e2fb",
   "metadata": {},
   "outputs": [],
   "source": [
    "Python while loop is used to run a block code until a certain condition is met.\n",
    "Here, A while loop evaluates the condition.\n",
    "If the condition evaluates to True , the code inside the while loop is executed.\n"
   ]
  },
  {
   "cell_type": "code",
   "execution_count": 7,
   "id": "5a9c92b3-c8d9-45cb-a006-78170ea362f1",
   "metadata": {},
   "outputs": [
    {
     "name": "stdout",
     "output_type": "stream",
     "text": [
      "1\n",
      "2\n",
      "3\n",
      "4\n",
      "5\n"
     ]
    }
   ],
   "source": [
    "i = 1\n",
    "while i < 6:\n",
    "  print(i)\n",
    "  i += 1"
   ]
  },
  {
   "cell_type": "code",
   "execution_count": 9,
   "id": "18f0c061-395b-4e56-9d23-a1c83f79d9e8",
   "metadata": {},
   "outputs": [
    {
     "name": "stdin",
     "output_type": "stream",
     "text": [
      "Enter no. 5\n"
     ]
    },
    {
     "name": "stdout",
     "output_type": "stream",
     "text": [
      "* \n",
      "* * \n",
      "* * * \n",
      "* * * * \n",
      "* * * * * \n"
     ]
    }
   ],
   "source": [
    "n = int(input(\"Enter no.\"))\n",
    "i = 1\n",
    "while i <= n:\n",
    "    j=1\n",
    "    while j <=i:\n",
    "        print(\"*\", end=\" \")\n",
    "        j += 1\n",
    "        \n",
    "    print()\n",
    "    i+= 1"
   ]
  }
 ],
 "metadata": {
  "kernelspec": {
   "display_name": "Python 3 (ipykernel)",
   "language": "python",
   "name": "python3"
  },
  "language_info": {
   "codemirror_mode": {
    "name": "ipython",
    "version": 3
   },
   "file_extension": ".py",
   "mimetype": "text/x-python",
   "name": "python",
   "nbconvert_exporter": "python",
   "pygments_lexer": "ipython3",
   "version": "3.10.8"
  }
 },
 "nbformat": 4,
 "nbformat_minor": 5
}
